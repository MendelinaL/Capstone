{
 "cells": [
  {
   "cell_type": "markdown",
   "metadata": {
    "id": "GHcDNsEqu4Co"
   },
   "source": [
    "# 3 Modeling\n",
    "\n",
    "**Team 1:** John Chen, Mendelina Lopez, and Katie Hu\n",
    "\n",
    "The focus of this notebook is to model and deploy an application.\n",
    "  \n",
    "<font color = red > **NOTICE:** </font> This study uses Twitter data to detect hate speech and offensive language. The content can be triggering due to the nature of the study with text consisting of racist, homophobic, sexist, and offensive language.\n",
    "<br>\n",
    "<br>  \n",
    "***"
   ]
  },
  {
   "cell_type": "code",
   "execution_count": 1,
   "metadata": {
    "colab": {
     "base_uri": "https://localhost:8080/"
    },
    "id": "7J16YbXCqplD",
    "outputId": "52e77047-c5e4-4ca5-e941-aaeef890368c"
   },
   "outputs": [
    {
     "name": "stdout",
     "output_type": "stream",
     "text": [
      "Drive already mounted at /content/drive; to attempt to forcibly remount, call drive.mount(\"/content/drive\", force_remount=True).\n"
     ]
    }
   ],
   "source": [
    "# from google.colab import drive\n",
    "# drive.mount('/content/drive')"
   ]
  },
  {
   "cell_type": "code",
   "execution_count": 40,
   "metadata": {
    "id": "FAG8EQPFu8Ku"
   },
   "outputs": [],
   "source": [
    "# Import Dependencies\n",
    "\n",
    "# Libraries For Data Preparation\n",
    "import os\n",
    "import re\n",
    "import sys\n",
    "import pandas as pd\n",
    "import numpy as np\n",
    "import nltk\n",
    "import contractions\n",
    "import string\n",
    "from collections import defaultdict, Counter\n",
    "from string import punctuation\n",
    "from nltk import pos_tag\n",
    "from nltk.tokenize import RegexpTokenizer, word_tokenize, TweetTokenizer\n",
    "from nltk.corpus import stopwords, wordnet\n",
    "from nltk.stem import WordNetLemmatizer\n",
    "from nltk.sentiment.vader import SentimentIntensityAnalyzer\n",
    "from tabulate import tabulate\n",
    "from textblob import TextBlob\n",
    "from sklearn.feature_extraction.text import CountVectorizer\n",
    "from sklearn.feature_extraction.text import TfidfVectorizer\n",
    "from sklearn.decomposition import LatentDirichletAllocation\n",
    "from sklearn.model_selection import train_test_split\n",
    "\n",
    "# For Graphs\n",
    "from matplotlib import pyplot as plt\n",
    "from matplotlib.colors import ListedColormap\n",
    "import seaborn as sns\n",
    "\n",
    "# Modeling\n",
    "from sklearn.naive_bayes import MultinomialNB\n",
    "from sklearn.metrics import classification_report, roc_curve, roc_auc_score, auc\n",
    "from sklearn.naive_bayes import BernoulliNB\n",
    "import xgboost as xgb\n",
    "from sklearn.metrics import accuracy_score, classification_report, confusion_matrix, ConfusionMatrixDisplay\n",
    "from sklearn import metrics\n",
    "from sklearn.linear_model import LogisticRegression\n",
    "from sklearn.model_selection import GridSearchCV, RandomizedSearchCV\n",
    "import tensorflow as tf\n",
    "from sklearn.model_selection import train_test_split\n",
    "from tensorflow.keras.preprocessing.text import Tokenizer\n",
    "from tensorflow.keras.preprocessing.sequence import pad_sequences\n",
    "from tensorflow.keras.utils import to_categorical\n",
    "from tensorflow.keras.models import Sequential\n",
    "from tensorflow.keras.layers import Embedding, LSTM, Dense\n",
    "import keras\n",
    "from keras.models import Sequential\n",
    "from keras.layers import Dense, LSTM, Bidirectional, Dropout\n",
    "from tensorflow.keras.optimizers import Adam\n",
    "from tensorflow.keras.losses import SparseCategoricalCrossentropy, CategoricalCrossentropy\n",
    "from tensorflow.keras.callbacks import EarlyStopping\n",
    "from keras.wrappers.scikit_learn import KerasClassifier\n",
    "\n",
    "# Suppress Warnings\n",
    "import warnings\n",
    "warnings.filterwarnings('ignore')"
   ]
  },
  {
   "cell_type": "code",
   "execution_count": 3,
   "metadata": {
    "id": "g7efFTX60sAP"
   },
   "outputs": [],
   "source": [
    "# !pip install contractions"
   ]
  },
  {
   "cell_type": "code",
   "execution_count": 4,
   "metadata": {
    "id": "iB-gj-kPxdLW"
   },
   "outputs": [],
   "source": [
    "# Set Path to EDA Analysis Phase II\n",
    "modeling_path = '../Image/Modeling/'\n",
    "\n",
    "# Read in Data\n",
    "prepared_data = pd.read_csv('../Data/prepared_data.csv', index_col = [0])\n",
    "prepared_data.head()"
   ]
  },
  {
   "cell_type": "code",
   "execution_count": 5,
   "metadata": {
    "colab": {
     "base_uri": "https://localhost:8080/",
     "height": 337
    },
    "id": "ZJ4d0_VT0HI2",
    "outputId": "f70b468d-4f1b-4348-db25-fae26373676d"
   },
   "outputs": [
    {
     "data": {
      "text/html": [
       "\n",
       "\n",
       "  <div id=\"df-c3a19910-1633-4768-80bc-05fdcee0990a\">\n",
       "    <div class=\"colab-df-container\">\n",
       "      <div>\n",
       "<style scoped>\n",
       "    .dataframe tbody tr th:only-of-type {\n",
       "        vertical-align: middle;\n",
       "    }\n",
       "\n",
       "    .dataframe tbody tr th {\n",
       "        vertical-align: top;\n",
       "    }\n",
       "\n",
       "    .dataframe thead th {\n",
       "        text-align: right;\n",
       "    }\n",
       "</style>\n",
       "<table border=\"1\" class=\"dataframe\">\n",
       "  <thead>\n",
       "    <tr style=\"text-align: right;\">\n",
       "      <th></th>\n",
       "      <th>tweet</th>\n",
       "      <th>tokens</th>\n",
       "      <th>clean_tweet</th>\n",
       "      <th>class</th>\n",
       "      <th>tweet_length</th>\n",
       "      <th>sentiment_scores</th>\n",
       "      <th>sentiment</th>\n",
       "      <th>compound_score</th>\n",
       "    </tr>\n",
       "  </thead>\n",
       "  <tbody>\n",
       "    <tr>\n",
       "      <th>0</th>\n",
       "      <td>!!! RT @mayasolovely: As a woman you shouldn't...</td>\n",
       "      <td>['@mayasolovely', 'woman', 'complain', 'cleani...</td>\n",
       "      <td>@mayasolovely woman complain cleaning house ...</td>\n",
       "      <td>0</td>\n",
       "      <td>9</td>\n",
       "      <td>{'neg': 0.238, 'neu': 0.762, 'pos': 0.0, 'comp...</td>\n",
       "      <td>negative</td>\n",
       "      <td>-0.3612</td>\n",
       "    </tr>\n",
       "    <tr>\n",
       "      <th>1</th>\n",
       "      <td>!!!!! RT @mleew17: boy dats cold...tyga dwn ba...</td>\n",
       "      <td>['@mleew', 'boy', 'dat', 'coldtyga', 'dwn', 'b...</td>\n",
       "      <td>@mleew boy dat coldtyga dwn bad cuffin dat h...</td>\n",
       "      <td>1</td>\n",
       "      <td>11</td>\n",
       "      <td>{'neg': 0.259, 'neu': 0.741, 'pos': 0.0, 'comp...</td>\n",
       "      <td>negative</td>\n",
       "      <td>-0.5423</td>\n",
       "    </tr>\n",
       "    <tr>\n",
       "      <th>2</th>\n",
       "      <td>!!!!!!! RT @UrKindOfBrand Dawg!!!! RT @80sbaby...</td>\n",
       "      <td>['@urkindofbrand', 'dawg', '@sbabylife', 'ever...</td>\n",
       "      <td>@urkindofbrand dawg  @sbabylife ever fuck bi...</td>\n",
       "      <td>1</td>\n",
       "      <td>10</td>\n",
       "      <td>{'neg': 0.761, 'neu': 0.239, 'pos': 0.0, 'comp...</td>\n",
       "      <td>negative</td>\n",
       "      <td>-0.9423</td>\n",
       "    </tr>\n",
       "    <tr>\n",
       "      <th>3</th>\n",
       "      <td>!!!!!!!!! RT @C_G_Anderson: @viva_based she lo...</td>\n",
       "      <td>['@cganderson', '@vivabased', 'look', 'like', ...</td>\n",
       "      <td>@cganderson @vivabased look like tranny</td>\n",
       "      <td>1</td>\n",
       "      <td>5</td>\n",
       "      <td>{'neg': 0.0, 'neu': 0.615, 'pos': 0.385, 'comp...</td>\n",
       "      <td>positive</td>\n",
       "      <td>0.3612</td>\n",
       "    </tr>\n",
       "    <tr>\n",
       "      <th>4</th>\n",
       "      <td>!!!!!!!!!!!!! RT @ShenikaRoberts: The shit you...</td>\n",
       "      <td>['@shenikarobes', 'shit', 'hear', 'might', 'tr...</td>\n",
       "      <td>@shenikarobes shit hear might true might fak...</td>\n",
       "      <td>1</td>\n",
       "      <td>10</td>\n",
       "      <td>{'neg': 0.43, 'neu': 0.407, 'pos': 0.163, 'com...</td>\n",
       "      <td>negative</td>\n",
       "      <td>-0.6808</td>\n",
       "    </tr>\n",
       "  </tbody>\n",
       "</table>\n",
       "</div>\n",
       "      <button class=\"colab-df-convert\" onclick=\"convertToInteractive('df-c3a19910-1633-4768-80bc-05fdcee0990a')\"\n",
       "              title=\"Convert this dataframe to an interactive table.\"\n",
       "              style=\"display:none;\">\n",
       "\n",
       "  <svg xmlns=\"http://www.w3.org/2000/svg\" height=\"24px\"viewBox=\"0 0 24 24\"\n",
       "       width=\"24px\">\n",
       "    <path d=\"M0 0h24v24H0V0z\" fill=\"none\"/>\n",
       "    <path d=\"M18.56 5.44l.94 2.06.94-2.06 2.06-.94-2.06-.94-.94-2.06-.94 2.06-2.06.94zm-11 1L8.5 8.5l.94-2.06 2.06-.94-2.06-.94L8.5 2.5l-.94 2.06-2.06.94zm10 10l.94 2.06.94-2.06 2.06-.94-2.06-.94-.94-2.06-.94 2.06-2.06.94z\"/><path d=\"M17.41 7.96l-1.37-1.37c-.4-.4-.92-.59-1.43-.59-.52 0-1.04.2-1.43.59L10.3 9.45l-7.72 7.72c-.78.78-.78 2.05 0 2.83L4 21.41c.39.39.9.59 1.41.59.51 0 1.02-.2 1.41-.59l7.78-7.78 2.81-2.81c.8-.78.8-2.07 0-2.86zM5.41 20L4 18.59l7.72-7.72 1.47 1.35L5.41 20z\"/>\n",
       "  </svg>\n",
       "      </button>\n",
       "\n",
       "\n",
       "\n",
       "    <div id=\"df-3e3f9120-308b-40d9-861b-2c3cefcc2183\">\n",
       "      <button class=\"colab-df-quickchart\" onclick=\"quickchart('df-3e3f9120-308b-40d9-861b-2c3cefcc2183')\"\n",
       "              title=\"Suggest charts.\"\n",
       "              style=\"display:none;\">\n",
       "\n",
       "<svg xmlns=\"http://www.w3.org/2000/svg\" height=\"24px\"viewBox=\"0 0 24 24\"\n",
       "     width=\"24px\">\n",
       "    <g>\n",
       "        <path d=\"M19 3H5c-1.1 0-2 .9-2 2v14c0 1.1.9 2 2 2h14c1.1 0 2-.9 2-2V5c0-1.1-.9-2-2-2zM9 17H7v-7h2v7zm4 0h-2V7h2v10zm4 0h-2v-4h2v4z\"/>\n",
       "    </g>\n",
       "</svg>\n",
       "      </button>\n",
       "    </div>\n",
       "\n",
       "<style>\n",
       "  .colab-df-quickchart {\n",
       "    background-color: #E8F0FE;\n",
       "    border: none;\n",
       "    border-radius: 50%;\n",
       "    cursor: pointer;\n",
       "    display: none;\n",
       "    fill: #1967D2;\n",
       "    height: 32px;\n",
       "    padding: 0 0 0 0;\n",
       "    width: 32px;\n",
       "  }\n",
       "\n",
       "  .colab-df-quickchart:hover {\n",
       "    background-color: #E2EBFA;\n",
       "    box-shadow: 0px 1px 2px rgba(60, 64, 67, 0.3), 0px 1px 3px 1px rgba(60, 64, 67, 0.15);\n",
       "    fill: #174EA6;\n",
       "  }\n",
       "\n",
       "  [theme=dark] .colab-df-quickchart {\n",
       "    background-color: #3B4455;\n",
       "    fill: #D2E3FC;\n",
       "  }\n",
       "\n",
       "  [theme=dark] .colab-df-quickchart:hover {\n",
       "    background-color: #434B5C;\n",
       "    box-shadow: 0px 1px 3px 1px rgba(0, 0, 0, 0.15);\n",
       "    filter: drop-shadow(0px 1px 2px rgba(0, 0, 0, 0.3));\n",
       "    fill: #FFFFFF;\n",
       "  }\n",
       "</style>\n",
       "\n",
       "    <script>\n",
       "      async function quickchart(key) {\n",
       "        const containerElement = document.querySelector('#' + key);\n",
       "        const charts = await google.colab.kernel.invokeFunction(\n",
       "            'suggestCharts', [key], {});\n",
       "      }\n",
       "    </script>\n",
       "\n",
       "      <script>\n",
       "\n",
       "function displayQuickchartButton(domScope) {\n",
       "  let quickchartButtonEl =\n",
       "    domScope.querySelector('#df-3e3f9120-308b-40d9-861b-2c3cefcc2183 button.colab-df-quickchart');\n",
       "  quickchartButtonEl.style.display =\n",
       "    google.colab.kernel.accessAllowed ? 'block' : 'none';\n",
       "}\n",
       "\n",
       "        displayQuickchartButton(document);\n",
       "      </script>\n",
       "      <style>\n",
       "    .colab-df-container {\n",
       "      display:flex;\n",
       "      flex-wrap:wrap;\n",
       "      gap: 12px;\n",
       "    }\n",
       "\n",
       "    .colab-df-convert {\n",
       "      background-color: #E8F0FE;\n",
       "      border: none;\n",
       "      border-radius: 50%;\n",
       "      cursor: pointer;\n",
       "      display: none;\n",
       "      fill: #1967D2;\n",
       "      height: 32px;\n",
       "      padding: 0 0 0 0;\n",
       "      width: 32px;\n",
       "    }\n",
       "\n",
       "    .colab-df-convert:hover {\n",
       "      background-color: #E2EBFA;\n",
       "      box-shadow: 0px 1px 2px rgba(60, 64, 67, 0.3), 0px 1px 3px 1px rgba(60, 64, 67, 0.15);\n",
       "      fill: #174EA6;\n",
       "    }\n",
       "\n",
       "    [theme=dark] .colab-df-convert {\n",
       "      background-color: #3B4455;\n",
       "      fill: #D2E3FC;\n",
       "    }\n",
       "\n",
       "    [theme=dark] .colab-df-convert:hover {\n",
       "      background-color: #434B5C;\n",
       "      box-shadow: 0px 1px 3px 1px rgba(0, 0, 0, 0.15);\n",
       "      filter: drop-shadow(0px 1px 2px rgba(0, 0, 0, 0.3));\n",
       "      fill: #FFFFFF;\n",
       "    }\n",
       "  </style>\n",
       "\n",
       "      <script>\n",
       "        const buttonEl =\n",
       "          document.querySelector('#df-c3a19910-1633-4768-80bc-05fdcee0990a button.colab-df-convert');\n",
       "        buttonEl.style.display =\n",
       "          google.colab.kernel.accessAllowed ? 'block' : 'none';\n",
       "\n",
       "        async function convertToInteractive(key) {\n",
       "          const element = document.querySelector('#df-c3a19910-1633-4768-80bc-05fdcee0990a');\n",
       "          const dataTable =\n",
       "            await google.colab.kernel.invokeFunction('convertToInteractive',\n",
       "                                                     [key], {});\n",
       "          if (!dataTable) return;\n",
       "\n",
       "          const docLinkHtml = 'Like what you see? Visit the ' +\n",
       "            '<a target=\"_blank\" href=https://colab.research.google.com/notebooks/data_table.ipynb>data table notebook</a>'\n",
       "            + ' to learn more about interactive tables.';\n",
       "          element.innerHTML = '';\n",
       "          dataTable['output_type'] = 'display_data';\n",
       "          await google.colab.output.renderOutput(dataTable, element);\n",
       "          const docLink = document.createElement('div');\n",
       "          docLink.innerHTML = docLinkHtml;\n",
       "          element.appendChild(docLink);\n",
       "        }\n",
       "      </script>\n",
       "    </div>\n",
       "  </div>\n"
      ],
      "text/plain": [
       "                                               tweet  \\\n",
       "0  !!! RT @mayasolovely: As a woman you shouldn't...   \n",
       "1  !!!!! RT @mleew17: boy dats cold...tyga dwn ba...   \n",
       "2  !!!!!!! RT @UrKindOfBrand Dawg!!!! RT @80sbaby...   \n",
       "3  !!!!!!!!! RT @C_G_Anderson: @viva_based she lo...   \n",
       "4  !!!!!!!!!!!!! RT @ShenikaRoberts: The shit you...   \n",
       "\n",
       "                                              tokens  \\\n",
       "0  ['@mayasolovely', 'woman', 'complain', 'cleani...   \n",
       "1  ['@mleew', 'boy', 'dat', 'coldtyga', 'dwn', 'b...   \n",
       "2  ['@urkindofbrand', 'dawg', '@sbabylife', 'ever...   \n",
       "3  ['@cganderson', '@vivabased', 'look', 'like', ...   \n",
       "4  ['@shenikarobes', 'shit', 'hear', 'might', 'tr...   \n",
       "\n",
       "                                         clean_tweet  class  tweet_length  \\\n",
       "0    @mayasolovely woman complain cleaning house ...      0             9   \n",
       "1    @mleew boy dat coldtyga dwn bad cuffin dat h...      1            11   \n",
       "2    @urkindofbrand dawg  @sbabylife ever fuck bi...      1            10   \n",
       "3            @cganderson @vivabased look like tranny      1             5   \n",
       "4    @shenikarobes shit hear might true might fak...      1            10   \n",
       "\n",
       "                                    sentiment_scores sentiment  compound_score  \n",
       "0  {'neg': 0.238, 'neu': 0.762, 'pos': 0.0, 'comp...  negative         -0.3612  \n",
       "1  {'neg': 0.259, 'neu': 0.741, 'pos': 0.0, 'comp...  negative         -0.5423  \n",
       "2  {'neg': 0.761, 'neu': 0.239, 'pos': 0.0, 'comp...  negative         -0.9423  \n",
       "3  {'neg': 0.0, 'neu': 0.615, 'pos': 0.385, 'comp...  positive          0.3612  \n",
       "4  {'neg': 0.43, 'neu': 0.407, 'pos': 0.163, 'com...  negative         -0.6808  "
      ]
     },
     "execution_count": 5,
     "metadata": {},
     "output_type": "execute_result"
    }
   ],
   "source": [
    "# prepared_data = pd.read_csv('/content/sample_data/prepared_data.csv', index_col = [0])\n",
    "# prepared_data.head()"
   ]
  },
  {
   "cell_type": "code",
   "execution_count": 6,
   "metadata": {
    "id": "25UShIPn3Nr-"
   },
   "outputs": [],
   "source": [
    "df2 = prepared_data.copy()"
   ]
  },
  {
   "cell_type": "code",
   "execution_count": 7,
   "metadata": {
    "id": "gODWOnwj3xzx"
   },
   "outputs": [],
   "source": [
    "# Set the Label to be Numerical\n",
    "label = df2['sentiment']\n",
    "sentiment_ordering = ['negative', 'neutral', 'positive']\n",
    "y = label.apply(lambda x: sentiment_ordering.index(x))"
   ]
  },
  {
   "cell_type": "code",
   "execution_count": 8,
   "metadata": {
    "id": "sKMHep7i4FId"
   },
   "outputs": [],
   "source": [
    "# Input column\n",
    "X = df2['clean_tweet']"
   ]
  },
  {
   "cell_type": "code",
   "execution_count": 9,
   "metadata": {
    "id": "QrIyZoWe4OqX"
   },
   "outputs": [],
   "source": [
    "# Splitting of Data\n",
    "X_train, X_test, y_train, y_test = train_test_split(df2['clean_tweet'], y, test_size = .15, stratify = y, random_state = 1025)\n",
    "\n",
    "# Use TfidfVectorizer to convert text to a matrix of TF-IDF features\n",
    "vec = TfidfVectorizer(strip_accents = 'unicode', analyzer = 'word', ngram_range = (1,3))\n",
    "vec.fit(X_train)\n",
    "X_train = vec.transform(X_train)\n",
    "X_test = vec.transform(X_test)"
   ]
  },
  {
   "cell_type": "code",
   "execution_count": 33,
   "metadata": {
    "colab": {
     "base_uri": "https://localhost:8080/"
    },
    "id": "juEoZOUU4XPj",
    "outputId": "5e591df2-43d3-4f5e-ca49-27be4557d59a"
   },
   "outputs": [
    {
     "name": "stdout",
     "output_type": "stream",
     "text": [
      "Accuracy of the classifier:  60.65 %\n",
      "Confusion matrix is :\n",
      " [[2212    0    1]\n",
      " [ 673    7    3]\n",
      " [ 786    0   36]]\n",
      "Classification Report is :\n",
      "               precision    recall  f1-score   support\n",
      "\n",
      "           0       0.60      1.00      0.75      2213\n",
      "           1       1.00      0.01      0.02       683\n",
      "           2       0.90      0.04      0.08       822\n",
      "\n",
      "    accuracy                           0.61      3718\n",
      "   macro avg       0.83      0.35      0.29      3718\n",
      "weighted avg       0.74      0.61      0.47      3718\n",
      "\n"
     ]
    }
   ],
   "source": [
    "# Model Testing of Multinomial Naive-Bayes\n",
    "NB_model = MultinomialNB()\n",
    "NB_model.fit(X_train, y_train)\n",
    "y_predNB = NB_model.predict(X_test)\n",
    "cf = classification_report(y_test, y_predNB)\n",
    "acc = accuracy_score(y_test, y_predNB)\n",
    "nb_multi_probs = NB_model.predict_proba(X_test)[:, 1]\n",
    "print(\"Accuracy of the classifier: \", round((acc*100), 2),'%')\n",
    "print(\"Confusion matrix is :\\n\",metrics.confusion_matrix(y_test,y_predNB))\n",
    "print(\"Classification Report is :\\n\", cf)"
   ]
  },
  {
   "cell_type": "code",
   "execution_count": 34,
   "metadata": {
    "colab": {
     "base_uri": "https://localhost:8080/"
    },
    "id": "wKR6NGG44v4G",
    "outputId": "9ac48c7d-a7fb-4804-f874-1a95365662d3"
   },
   "outputs": [
    {
     "name": "stdout",
     "output_type": "stream",
     "text": [
      "Accuracy of the classifier:  59.71 %\n",
      "Confusion matrix is :\n",
      " [[2213    0    0]\n",
      " [ 682    0    1]\n",
      " [ 815    0    7]]\n",
      "Classification report: \n",
      "               precision    recall  f1-score   support\n",
      "\n",
      "           0       0.60      1.00      0.75      2213\n",
      "           1       0.00      0.00      0.00       683\n",
      "           2       0.88      0.01      0.02       822\n",
      "\n",
      "    accuracy                           0.60      3718\n",
      "   macro avg       0.49      0.34      0.25      3718\n",
      "weighted avg       0.55      0.60      0.45      3718\n",
      "\n"
     ]
    }
   ],
   "source": [
    "# Model Testing of Bernoulli Naive-Bayes\n",
    "classifier = BernoulliNB()\n",
    "classifier.fit(X_train, y_train)\n",
    "y_pred = classifier.predict(X_test)\n",
    "acc = accuracy_score(y_test, y_pred)\n",
    "nb_probs = classifier.predict_proba(X_test)[:, 1]\n",
    "print(\"Accuracy of the classifier: \", round((acc*100), 2),'%')\n",
    "print(\"Confusion matrix is :\\n\",metrics.confusion_matrix(y_test,y_pred))\n",
    "print(\"Classification report: \\n\" ,metrics.classification_report(y_test,y_pred))"
   ]
  },
  {
   "cell_type": "code",
   "execution_count": 35,
   "metadata": {
    "colab": {
     "base_uri": "https://localhost:8080/"
    },
    "id": "PudH6z6042Wu",
    "outputId": "ae9ddc94-ac84-4d61-d8db-61cc00665eda"
   },
   "outputs": [
    {
     "name": "stdout",
     "output_type": "stream",
     "text": [
      "Accuracy of the classifier:  79.94 %\n",
      "Confusion matrix is :\n",
      " [[1860  235  118]\n",
      " [  23  639   21]\n",
      " [ 139  210  473]]\n",
      "Classification report: \n",
      "               precision    recall  f1-score   support\n",
      "\n",
      "           0       0.92      0.84      0.88      2213\n",
      "           1       0.59      0.94      0.72       683\n",
      "           2       0.77      0.58      0.66       822\n",
      "\n",
      "    accuracy                           0.80      3718\n",
      "   macro avg       0.76      0.78      0.75      3718\n",
      "weighted avg       0.83      0.80      0.80      3718\n",
      "\n"
     ]
    }
   ],
   "source": [
    "# XGBoost Classifier Model\n",
    "xgb_model=xgb.XGBClassifier(\n",
    "        learning_rate=0.1,\n",
    "        max_depth=7,\n",
    "        n_estimators=80,\n",
    "        use_label_encoder=False,\n",
    "        eval_metric='auc' )\n",
    "\n",
    "xgb_model_vectorizer = xgb_model.fit(X_train, y_train)\n",
    "y_pred = xgb_model_vectorizer.predict(X_test)\n",
    "acc = accuracy_score(y_test, y_pred)\n",
    "xgb_probs = xgb_model.predict_proba(X_test)[:, 1]\n",
    "print(\"Accuracy of the classifier: \", round((acc*100), 2),'%')\n",
    "print(\"Confusion matrix is :\\n\",metrics.confusion_matrix(y_test,y_pred))\n",
    "print(\"Classification report: \\n\" ,metrics.classification_report(y_test,y_pred))"
   ]
  },
  {
   "cell_type": "code",
   "execution_count": 32,
   "metadata": {
    "colab": {
     "base_uri": "https://localhost:8080/"
    },
    "id": "zTDKUeeC5aHd",
    "outputId": "dc679980-12fe-430c-dcb0-890e847a9bf5"
   },
   "outputs": [
    {
     "name": "stdout",
     "output_type": "stream",
     "text": [
      "Accuracy of the classifier:  83.24 %\n",
      "Confusion matrix is :\n",
      " [[2052   77   84]\n",
      " [ 144  483   56]\n",
      " [ 193   69  560]]\n",
      "Classification report: \n",
      "               precision    recall  f1-score   support\n",
      "\n",
      "           0       0.86      0.93      0.89      2213\n",
      "           1       0.77      0.71      0.74       683\n",
      "           2       0.80      0.68      0.74       822\n",
      "\n",
      "    accuracy                           0.83      3718\n",
      "   macro avg       0.81      0.77      0.79      3718\n",
      "weighted avg       0.83      0.83      0.83      3718\n",
      "\n"
     ]
    }
   ],
   "source": [
    "# Modeling of Logistic Regression\n",
    "lr = LogisticRegression()\n",
    "lr.fit(X_train, y_train)\n",
    "lr_predict = lr.predict(X_test)\n",
    "lr_acc = accuracy_score(lr_predict, y_test)\n",
    "lr_probs = lr.predict_proba(X_test)[:, 1]\n",
    "print(\"Accuracy of the classifier: \", round((lr_acc*100), 2),'%')\n",
    "print(\"Confusion matrix is :\\n\",metrics.confusion_matrix(y_test,lr_predict))\n",
    "print(\"Classification report: \\n\" ,metrics.classification_report(y_test,lr_predict))"
   ]
  },
  {
   "cell_type": "code",
   "execution_count": 15,
   "metadata": {
    "colab": {
     "base_uri": "https://localhost:8080/"
    },
    "id": "hTQP_Kq66yBV",
    "outputId": "0209031a-71d1-4dae-ab9c-3b4a8314e815"
   },
   "outputs": [
    {
     "name": "stdout",
     "output_type": "stream",
     "text": [
      "Best Cross validation score: 0.85\n",
      "Best parameters:  {'C': 100, 'solver': 'lbfgs'}\n"
     ]
    }
   ],
   "source": [
    "# Hypertune the Logistic Regression Model\n",
    "param_grid = {'C':[100, 10, 1.0, 0.1, 0.01], 'solver' :['newton-cg', 'lbfgs','liblinear']}\n",
    "grid = GridSearchCV(LogisticRegression(), param_grid, cv = 5)\n",
    "grid.fit(X_train, y_train)\n",
    "print(\"Best Cross validation score: {:.2f}\".format(grid.best_score_))\n",
    "print(\"Best parameters: \", grid.best_params_)"
   ]
  },
  {
   "cell_type": "code",
   "execution_count": 16,
   "metadata": {
    "colab": {
     "base_uri": "https://localhost:8080/"
    },
    "id": "8wK2K8y267RM",
    "outputId": "eebb66d3-1ee1-4485-9747-356cc84c2512"
   },
   "outputs": [
    {
     "name": "stdout",
     "output_type": "stream",
     "text": [
      "Accuracy of the classifier:  86.79 %\n",
      "Confusion matrix is :\n",
      " [[2048   70   95]\n",
      " [  74  538   71]\n",
      " [ 123   58  641]]\n",
      "Classification report: \n",
      "               precision    recall  f1-score   support\n",
      "\n",
      "           0       0.91      0.93      0.92      2213\n",
      "           1       0.81      0.79      0.80       683\n",
      "           2       0.79      0.78      0.79       822\n",
      "\n",
      "    accuracy                           0.87      3718\n",
      "   macro avg       0.84      0.83      0.83      3718\n",
      "weighted avg       0.87      0.87      0.87      3718\n",
      "\n"
     ]
    }
   ],
   "source": [
    "# Hypertuned Logistic Regression Model Results\n",
    "lgrid_pred = grid.predict(X_test)\n",
    "lgrid_acc = accuracy_score(lgrid_pred, y_test)\n",
    "print(\"Accuracy of the classifier: \", round((lgrid_acc*100), 2),'%')\n",
    "print(\"Confusion matrix is :\\n\",metrics.confusion_matrix(y_test,lgrid_pred))\n",
    "print(\"Classification report: \\n\" ,metrics.classification_report(y_test,lgrid_pred))"
   ]
  },
  {
   "cell_type": "code",
   "execution_count": 17,
   "metadata": {
    "id": "8eubZa3455eh"
   },
   "outputs": [],
   "source": [
    "# Additional Preprocessing for LSTM Model\n",
    "\n",
    "# Tokenize preprocessing for LSTM model\n",
    "tokenizer = Tokenizer()\n",
    "tokenizer.fit_on_texts(X)\n",
    "X_n = tokenizer.texts_to_sequences(X)\n",
    "\n",
    "# Pad the sequences for same length\n",
    "maxlen = 120\n",
    "X_n = pad_sequences(X_n, maxlen=maxlen)\n",
    "\n",
    "# num of classes\n",
    "num_classes = len(sentiment_ordering)\n",
    "\n",
    "# Split Data\n",
    "X_train_n, X_test_n, y_train, y_test = train_test_split(X_n, y, test_size = .15, stratify = y, random_state = 1025)\n",
    "\n",
    "# Add Early Stopping\n",
    "early_stop = EarlyStopping(monitor=\"val_loss\",patience=5,verbose=True)\n",
    "\n",
    "# Convert the test target labels to one-hot encoded vectors\n",
    "y_train_n = to_categorical(y_train, 3)\n",
    "y_test_n = to_categorical(y_test, 3)"
   ]
  },
  {
   "cell_type": "code",
   "execution_count": 18,
   "metadata": {
    "colab": {
     "base_uri": "https://localhost:8080/"
    },
    "id": "F2xiddcg6dwc",
    "outputId": "f9a2986d-36cb-472b-841c-395f16313a8f"
   },
   "outputs": [
    {
     "name": "stdout",
     "output_type": "stream",
     "text": [
      "Model: \"sequential\"\n",
      "_________________________________________________________________\n",
      " Layer (type)                Output Shape              Param #   \n",
      "=================================================================\n",
      " embedding (Embedding)       (None, 120, 100)          3041600   \n",
      "                                                                 \n",
      " lstm (LSTM)                 (None, 100)               80400     \n",
      "                                                                 \n",
      " dense (Dense)               (None, 128)               12928     \n",
      "                                                                 \n",
      " dense_1 (Dense)             (None, 3)                 387       \n",
      "                                                                 \n",
      "=================================================================\n",
      "Total params: 3,135,315\n",
      "Trainable params: 3,135,315\n",
      "Non-trainable params: 0\n",
      "_________________________________________________________________\n"
     ]
    }
   ],
   "source": [
    "# Build the LSTM model\n",
    "model = Sequential()\n",
    "model.add(Embedding(input_dim=len(tokenizer.word_index) + 1, output_dim=100, input_length=maxlen))\n",
    "model.add(LSTM(100))\n",
    "model.add(Dense(128, activation='relu'))\n",
    "model.add(Dense(units=num_classes, activation='sigmoid'))\n",
    "\n",
    "model.compile(loss='categorical_crossentropy', optimizer='adam', metrics=['accuracy'])\n",
    "model.summary()"
   ]
  },
  {
   "cell_type": "code",
   "execution_count": 19,
   "metadata": {
    "colab": {
     "base_uri": "https://localhost:8080/"
    },
    "id": "Qm-sxxCG6e4h",
    "outputId": "fe192049-72db-4637-c138-fd03c408134f"
   },
   "outputs": [
    {
     "name": "stdout",
     "output_type": "stream",
     "text": [
      "Epoch 1/10\n",
      "659/659 [==============================] - 66s 97ms/step - loss: 0.5137 - accuracy: 0.7982 - val_loss: 0.3627 - val_accuracy: 0.8798\n",
      "Epoch 2/10\n",
      "659/659 [==============================] - 64s 97ms/step - loss: 0.2036 - accuracy: 0.9317 - val_loss: 0.3354 - val_accuracy: 0.8868\n",
      "Epoch 3/10\n",
      "659/659 [==============================] - 64s 97ms/step - loss: 0.1024 - accuracy: 0.9643 - val_loss: 0.3600 - val_accuracy: 0.8806\n",
      "Epoch 4/10\n",
      "659/659 [==============================] - 64s 97ms/step - loss: 0.0630 - accuracy: 0.9793 - val_loss: 0.3608 - val_accuracy: 0.8932\n",
      "Epoch 5/10\n",
      "659/659 [==============================] - 63s 96ms/step - loss: 0.0396 - accuracy: 0.9872 - val_loss: 0.4576 - val_accuracy: 0.8800\n",
      "Epoch 6/10\n",
      "659/659 [==============================] - 63s 96ms/step - loss: 0.0293 - accuracy: 0.9904 - val_loss: 0.4577 - val_accuracy: 0.8819\n",
      "Epoch 7/10\n",
      "659/659 [==============================] - 63s 96ms/step - loss: 0.0174 - accuracy: 0.9944 - val_loss: 0.5443 - val_accuracy: 0.8973\n",
      "Epoch 7: early stopping\n"
     ]
    },
    {
     "data": {
      "text/plain": [
       "<keras.callbacks.History at 0x7d6c00b06320>"
      ]
     },
     "execution_count": 19,
     "metadata": {},
     "output_type": "execute_result"
    }
   ],
   "source": [
    "# Train the LSTM model\n",
    "batch_size = 32\n",
    "epochs = 10\n",
    "model.fit(X_train_n, y_train_n, batch_size=batch_size, epochs=epochs, validation_data=(X_test_n, y_test_n), callbacks=[early_stop], validation_split=0.15)"
   ]
  },
  {
   "cell_type": "code",
   "execution_count": 20,
   "metadata": {
    "colab": {
     "base_uri": "https://localhost:8080/"
    },
    "id": "q9UA1ZnV6kMd",
    "outputId": "9b036fb4-a654-4228-8d2a-318f5aca92f9"
   },
   "outputs": [
    {
     "name": "stdout",
     "output_type": "stream",
     "text": [
      "117/117 [==============================] - 2s 19ms/step - loss: 0.5443 - accuracy: 0.8973\n",
      "117/117 [==============================] - 3s 23ms/step\n",
      "Confusion matrix is:\n",
      " [[2064   50   99]\n",
      " [  57  560   66]\n",
      " [  73   37  712]]\n",
      "Classification report:\n",
      "               precision    recall  f1-score   support\n",
      "\n",
      "           0       0.94      0.93      0.94      2213\n",
      "           1       0.87      0.82      0.84       683\n",
      "           2       0.81      0.87      0.84       822\n",
      "\n",
      "    accuracy                           0.90      3718\n",
      "   macro avg       0.87      0.87      0.87      3718\n",
      "weighted avg       0.90      0.90      0.90      3718\n",
      "\n",
      "Test loss: 0.5443, Test accuracy: 0.8973\n"
     ]
    }
   ],
   "source": [
    "# Evaluate the LSTM model\n",
    "loss, accuracy = model.evaluate(X_test_n, y_test_n, batch_size=batch_size)\n",
    "y_pred_nn = model.predict(X_test_n)\n",
    "lgrid_pred_nn = np.argmax(y_pred_nn, axis=1) \n",
    "\n",
    "confusion_matrix = metrics.confusion_matrix(y_test_n.argmax(axis=1), lgrid_pred_nn)\n",
    "classification_report = metrics.classification_report(y_test_n.argmax(axis=1), lgrid_pred_nn)\n",
    "\n",
    "print(\"Confusion matrix is:\\n\", confusion_matrix)\n",
    "print(\"Classification report:\\n\", classification_report)\n",
    "print(f\"Test loss: {loss:.4f}, Test accuracy: {accuracy:.4f}\")"
   ]
  },
  {
   "cell_type": "code",
   "execution_count": 21,
   "metadata": {
    "colab": {
     "base_uri": "https://localhost:8080/"
    },
    "id": "fkUFk-Lm6ruJ",
    "outputId": "b4e2d87e-edf5-409e-d3c1-b4bf0b35853b"
   },
   "outputs": [
    {
     "name": "stdout",
     "output_type": "stream",
     "text": [
      "Model has been saved as a JSON file in your Google Drive.\n"
     ]
    }
   ],
   "source": [
    "# Save LSTM Model\n",
    "\n",
    "# Save the model in h5 format\n",
    "model.save('content/drive/MyDrive/Colab Notebooks/model.h5')\n",
    "\n",
    "# Convert the model to JSON format\n",
    "model_json = model.to_json()\n",
    "\n",
    "# Specify the path where you want to save the JSON file\n",
    "json_file_path = '/content/drive/MyDrive/Colab Notebooks/lstm.json'\n",
    "\n",
    "# Save the JSON data to the file\n",
    "with open(json_file_path, 'w') as json_file:\n",
    "    json_file.write(model_json)\n",
    "\n",
    "print(\"Model has been saved as a JSON file in your Google Drive.\")"
   ]
  },
  {
   "cell_type": "code",
   "execution_count": 22,
   "metadata": {
    "colab": {
     "base_uri": "https://localhost:8080/"
    },
    "id": "BuC5prPR7fil",
    "outputId": "5137d82a-1cc2-44c4-e8d4-7864dcdc3ea8"
   },
   "outputs": [
    {
     "name": "stdout",
     "output_type": "stream",
     "text": [
      "Best: 0.865654 using {'lstm_units': 150, 'embedding_dim': 200, 'dense_units': 128}\n"
     ]
    }
   ],
   "source": [
    "# Hypertuning the LSTM Model\n",
    "\n",
    "# Build the LSTM model function for RandomizedSearchCV\n",
    "def build_lstm_model(embedding_dim, lstm_units, dense_units):\n",
    "    model = Sequential()\n",
    "    model.add(Embedding(input_dim=len(tokenizer.word_index) + 1, output_dim=embedding_dim, input_length=maxlen))\n",
    "    model.add(LSTM(units=lstm_units))\n",
    "    model.add(Dense(units=dense_units, activation='relu'))\n",
    "    model.add(Dense(units=num_classes, activation='softmax'))\n",
    "    model.compile(loss='categorical_crossentropy', optimizer='adam', metrics=['accuracy'])\n",
    "    return model\n",
    "\n",
    "lstm_model = KerasClassifier(build_fn=build_lstm_model, verbose=0)\n",
    "\n",
    "# Define the hyperparameters to search\n",
    "param_distributions = {\n",
    "    'embedding_dim': [50, 100, 200],\n",
    "    'lstm_units': [50, 100, 150],\n",
    "    'dense_units': [64, 128, 256]\n",
    "}\n",
    "\n",
    "# Early Stopping\n",
    "early_stop = EarlyStopping(monitor='val_loss', patience=5, verbose=1)\n",
    "\n",
    "random_search = RandomizedSearchCV(estimator=lstm_model, param_distributions=param_distributions, cv=3, n_iter=5, random_state=1025)\n",
    "random_search_result = random_search.fit(X_train_n, y_train_n, validation_data=(X_test_n, y_test_n), validation_split=0.15, callbacks=[early_stop])\n",
    "\n",
    "# Print the best hyperparameters and accuracy\n",
    "print(\"Best: %f using %s\" % (random_search_result.best_score_, random_search_result.best_params_))"
   ]
  },
  {
   "cell_type": "code",
   "execution_count": 25,
   "metadata": {
    "colab": {
     "base_uri": "https://localhost:8080/"
    },
    "id": "kxc2yXxq80sS",
    "outputId": "6635f2a6-287b-4402-eca7-5020e669e906"
   },
   "outputs": [
    {
     "name": "stdout",
     "output_type": "stream",
     "text": [
      "Test accuracy: 0.8908\n"
     ]
    }
   ],
   "source": [
    "# Print accuracy results from the best LSTM model\n",
    "best_model = random_search_result.best_estimator_\n",
    "accuracy = best_model.score(X_test_n, y_test_n)\n",
    "print(f\"Test accuracy: {accuracy:.4f}\")"
   ]
  },
  {
   "cell_type": "code",
   "execution_count": 43,
   "metadata": {
    "colab": {
     "base_uri": "https://localhost:8080/",
     "height": 564
    },
    "id": "KlmRUyUBKIkS",
    "outputId": "30f73ea1-2b1c-45bb-bff2-47eee13a59b7"
   },
   "outputs": [
    {
     "data": {
      "image/png": "[encoded data removed]",
      "text/plain": [
       "<Figure size 800x600 with 1 Axes>"
      ]
     },
     "metadata": {},
     "output_type": "display_data"
    }
   ],
   "source": [
    "# Roc Curve\n",
    "\n",
    "# Compute ROC curve for each class separately\n",
    "fpr_lr, tpr_lr, _ = roc_curve(y_test.ravel(), lr_probs, pos_label=1)\n",
    "fpr_xgb, tpr_xgb, _ = roc_curve(y_test.ravel(), xgb_probs, pos_label=1)\n",
    "fpr_nb, tpr_nb, _ = roc_curve(y_test.ravel(), nb_probs, pos_label=1)\n",
    "fpr_nb_multi, tpr_nb_multi, _ = roc_curve(y_test.ravel(), nb_multi_probs, pos_label=1)\n",
    "fpr_lstm, tpr_lstm, _ = roc_curve(y_test_n[:, 1], y_pred_nn[:, 1])\n",
    "\n",
    "# Calculate macro-averaged AUC for multi-class models\n",
    "roc_auc_lr = auc(fpr_lr, tpr_lr)\n",
    "roc_auc_xgb = auc(fpr_xgb, tpr_xgb)\n",
    "roc_auc_nb = auc(fpr_nb, tpr_nb)\n",
    "roc_auc_nb_multi = auc(fpr_nb_multi, tpr_nb_multi)\n",
    "roc_auc_lstm = auc(fpr_lstm, tpr_lstm)\n",
    "\n",
    "# Plot ROC curve graph\n",
    "plt.figure(figsize=(8, 6))\n",
    "plt.plot(fpr_lr, tpr_lr, label=f\"Logistic Regression (AUC = {roc_auc_lr:.2f})\")\n",
    "plt.plot(fpr_xgb, tpr_xgb, label=f\"XGBoost (AUC = {roc_auc_xgb:.2f})\")\n",
    "plt.plot(fpr_nb, tpr_nb, label=f\"Bernoulli Naive Bayes (AUC = {roc_auc_nb:.2f})\")\n",
    "plt.plot(fpr_nb_multi, tpr_nb_multi, label=f\"Multinomial Naive Bayes (AUC = {roc_auc_nb_multi:.2f})\")\n",
    "plt.plot(fpr_lstm, tpr_lstm, label=f\"LSTM (AUC = {roc_auc_lstm:.2f})\")\n",
    "\n",
    "plt.plot([0, 1], [0, 1], 'k--')  # Random guess line\n",
    "plt.xlabel('False Positive Rate')\n",
    "plt.ylabel('True Positive Rate')\n",
    "plt.title('Macro-Averaged ROC Curve')\n",
    "plt.legend(loc='lower right')\n",
    "plt.grid()\n",
    "plt.show()"
   ]
  }
 ],
 "metadata": {
  "colab": {
   "provenance": []
  },
  "kernelspec": {
   "display_name": "Python 3 (ipykernel)",
   "language": "python",
   "name": "python3"
  },
  "language_info": {
   "codemirror_mode": {
    "name": "ipython",
    "version": 3
   },
   "file_extension": ".py",
   "mimetype": "text/x-python",
   "name": "python",
   "nbconvert_exporter": "python",
   "pygments_lexer": "ipython3",
   "version": "3.9.7"
  }
 },
 "nbformat": 4,
 "nbformat_minor": 1
}
